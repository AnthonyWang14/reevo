{
 "cells": [
  {
   "cell_type": "code",
   "execution_count": null,
   "metadata": {},
   "outputs": [],
   "source": [
    "export ZHIPU_AI_API_KEY=f07e67c397eba8bf926e235d435d911a.q0GLFA8L6hZbxVRO\n",
    "python3 main.py llm_client=glm-api llm_client.model=GLM-4-flash"
   ]
  }
 ],
 "metadata": {
  "language_info": {
   "name": "python"
  }
 },
 "nbformat": 4,
 "nbformat_minor": 2
}
